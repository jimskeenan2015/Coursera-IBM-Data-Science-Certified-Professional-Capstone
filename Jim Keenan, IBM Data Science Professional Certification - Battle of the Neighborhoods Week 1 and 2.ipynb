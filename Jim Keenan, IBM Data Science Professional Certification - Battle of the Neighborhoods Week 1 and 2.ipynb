{
 "cells": [
  {
   "cell_type": "markdown",
   "metadata": {},
   "source": [
    "### Jim Keenan, Data Science Capstone Project - Battle of the Neighborhoods Part 1"
   ]
  },
  {
   "cell_type": "markdown",
   "metadata": {},
   "source": [
    "### Introduction/Business Problem"
   ]
  },
  {
   "cell_type": "markdown",
   "metadata": {},
   "source": [
    "As a Data Scientist, I would like to make use of the methods and tools we have studied to compare the similarities and dissimilarities of New York City, New York, and Toronto, Canada, which will then be compared to a new City, London, England. The reason for doing this is many people from the United Kingdom, including myself, move from Europe to The United States of America, and it would be useful to have a meaningful scientific study to show similarities and dissimilarities between the places they are moving from, in this case London, England, to either New York City, New York, or Toronto, Canada. \n",
    "In that all three cities are the financial and cultural capitals of their respective countries, this information should prove useful, the similarities being a good recommendation factor for people who would like to move to North America ( USA and Canada ), but would like somewhere similar to where they had come from ( London ). Equally, there are some immigrants who may like to move to somewhere entirely different – the dissimilarities. \n"
   ]
  },
  {
   "cell_type": "markdown",
   "metadata": {},
   "source": [
    "### Definition of Data\n",
    "\n",
    "The data used to analyze similarities and dissimilarities will initially be found by looking at the Zip code (in the UK postcodes) in the central 5 boroughs of the given city. The data source for New York City which will be used is: https://geo.nyu.edu/catalog/nyu_2451_34572\n",
    "The Data used for Toronto will be:\n",
    "https://en.wikipedia.org/wiki/List_of_postal_codes_of_Canada:_M\n",
    "The Data used for London, England, UK will be:\n",
    "https://www.doogal.co.uk/UKPostcodes.php?Search=EC\n",
    "The three data sources will be used primarily to derive zip or post codes, Boroughs and Neighborhoods.\n",
    "The fourstone.com Rest API will then be used to return three JSON dictionaries, the main key for which we will be concerned is Item, the contents of which are lists for  which are broken down by locations in the boroughs by Venue name, Venue Category, Address, Zipcode and other interesting information, including web sites, photos and reviews. The Venue Category and lat/longs will then be used as features with quantitative measures to establish a model.\n",
    "The Data will be grouped by venue type and count, by Borough, for all three cities. A key will be assigned for each city, NY, TC and LE  and data merged to allow comparative studies on the summary data.\n",
    "Based on the data for all three cities, a common Python program will be created to compare the summary information grouped by venue type and quantity by City.\n",
    "A Python dataframe will be created for each city, which will find the 10 most popular venue categories by quantity and ranked  for each neighborhood by city.\n",
    "Using the 3 common dataframes, using K-Means Clustering to look at inter-clustering distances, with an arbitrary K value of 5, that is, 5 clusters. Since K-Means relies on non-categorical data, all data will be normalized into numeric values. (contd. On next page)\n",
    "\n",
    "Each of the 5 neighborhoods by city will then be mapped, and relative comparisons provided, based on similarities and dissimilarities.\n"
   ]
  },
  {
   "cell_type": "markdown",
   "metadata": {},
   "source": [
    "### New York, Toronto and London Jupyter notebooks with Code"
   ]
  },
  {
   "cell_type": "markdown",
   "metadata": {},
   "source": [
    "In the interest of readability, each city has been analyzed in a seperate notebook, since the output from Foursquare.com is very lengthy"
   ]
  },
  {
   "cell_type": "markdown",
   "metadata": {},
   "source": [
    "https://github.com/jimskeenan2015/python-bootcamp\n",
    "\n",
    "<a href=\"https://github.com/jimskeenan2015/Coursera-IBM-Data-Science-Certified-Professional-Capstone/blob/master/London%20Neighborhoods%20-%20Final.ipynb\">London Neighborhoods</a>"
   ]
  },
  {
   "cell_type": "markdown",
   "metadata": {},
   "source": [
    "# Methodolology\n",
    "\n",
    "The methodology used to analyze the acquired data for London, New York and Toronto ( hereafter referred to as the cities ) was to carry out an initial quantification of population and denstites for each city, after which querying the Foursquare.com developer API to gather location and venue data for the central area of analysis, that is the cities of London, New York and Toronto. In that the three cities populate Foursquare in slightly different ways, that is, classification for fields such as Borough, Neighborhood, slight coding adjustments were required in the Python scripts.\n",
    "\n",
    "There are three analytical Python Jupyter Notebooks used in the analysis ( kept seperate due to length of output during processing ) which are London Neighborhoods - Final.ipynb, Toronto Neighborhoods - Final.ipynb\n",
    "\n",
    "The data comes back in a JSON format, the required elements of which are then obtained by querying the JSON results set.\n",
    "In the case of analyzing the venues for the cities, the response from the foursquare qeruy is split into a subset of items, which are renamed venus, still in a JSON format.\n",
    "To make use of the data in analysis, the \n",
    "\n",
    "During the analysis of London, New York and Toronto, herafter referred to as the cities, a useful initial insight the citied would be to find the population quantity and density of each city, to establish relative similarities and dissimimalities, and build that into the equation with the frequency and types of venues within the selected neighborhoods.\n",
    "\n",
    "## London, New York and Toronto Population Quantities and Densities\n",
    "\n",
    "### London\n",
    "\n",
    "\n",
    "Greater London encompasses a total area of 1,583 square kilometres (611 sq mi), an area which had a population of 7,172,036 in 2001 and a population density of 4,542 inhabitants per square kilometre (11,760/sq mi). London is the financial and cultural center of the United Kingdom.\n",
    "\n",
    "https://en.wikipedia.org/wiki/London\n",
    "\n",
    "\n",
    "### New York\n",
    "\n",
    "The city's population density of 26,403 people per square mile (10,194/km²), makes it the densest of any American municipality with a population above 100,000. Manhattan's population density is 66,940 people per square mile (25,846/km²), highest of any county in the United States. New York City is multicultural. New York is the center of many cultural and financial areas in the United States of America.\n",
    "\n",
    "https://en.wikipedia.org/wiki/New_York_City\n",
    "\n",
    "### Toronto \n",
    "\n",
    "Toronto has 4,457 people per square kilometre, Montreal has 4,916 people per square kilometre and Vancouver, Canada's densest city, has 5,493 people per square kilometre. The population density in New York City is more than double Toronto's, with 10,935 people per square kilometre.\n",
    "\n",
    "http://worldpopulationreview.com/world-cities/toronto-population/\n",
    "\n",
    "\n",
    "The populations and demographics of the three cities are included as background information, to allow initial estimation and formation of a Hypothosis - London is most similar to Toronto in terms of population volume and density. Analyisis of the data and information relaturned by the  therefore, it is the most likely to be similar in venue types and frequency, will establish if this is a Null or Alternative Hypothesis.\n",
    "\n",
    "\n",
    "\n",
    "\n",
    "\n",
    "\n"
   ]
  },
  {
   "cell_type": "markdown",
   "metadata": {},
   "source": [
    "## Exploration and Analysis of Data"
   ]
  },
  {
   "cell_type": "markdown",
   "metadata": {},
   "source": [
    "It should be stated at the start of the analysis that the areas of the cities are subsets of the whole, due to limititions placed on the Foursquare Developer API. To ensure comparisons betweem cities are as fair as possible, a restriction of 100 records is implaced, in a radius of 500 meters. \n",
    "\n",
    "Examining the datasets returned for the cities in the three python jupyter notebooks, London has 4 boroughs and 61 neighborhoods, New York has 5 boroughs and 306 neighborhoods, and Toronto has 1 borough and 68 neighborhoods."
   ]
  },
  {
   "cell_type": "markdown",
   "metadata": {},
   "source": [
    "### Findings of Neighborhood Analysis - Boroughs and Neighborhood Density \n",
    "\n",
    "London is closest to Toronto in terms of neighborhood density with 61 compared to 68, where as New York has 306. Maps were generated using the Folium libraries to represent the three distributions.\n",
    "\n",
    "The three files of the data and analysis, London Neighborhoods - Final.ipynb, New-York-Neighborhoods - Final.ipynb and Toronto Neighborhoods - Final.ipynb are contained in github: \n",
    "https://github.com/jimskeenan2015/Coursera-IBM-Data-Science-Certified-Professional-Capstone/blob/master/London%20Neighborhoods%20-%20Final.ipynb\n",
    "https://github.com/jimskeenan2015/Coursera-IBM-Data-Science-Certified-Professional-Capstone"
   ]
  },
  {
   "cell_type": "markdown",
   "metadata": {},
   "source": [
    "Methodology section which represents the main component of the report where\n",
    "you discuss and describe any exploratory data analysis that you did, any \n",
    "inferential statistical testing that you performed, if any, and what machine \n",
    "learnings were used and why.\n"
   ]
  },
  {
   "cell_type": "code",
   "execution_count": null,
   "metadata": {},
   "outputs": [],
   "source": [
    "\tNeighborhood\t1st Most Common Venue\t2nd Most Common Venue\t3rd Most Common Venue\t4th Most Common Venue\t5th Most Common Venue\t6th Most Common Venue\t7th Most Common Venue\t8th Most Common Venue\t9th Most Common Venue\t10th Most Common Venue\n",
    "0\tLondon,SW1V\tHotel\tPub\tItalian Restaurant\tCafé\tSandwich Place\tIndian Restaurant\tRestaurant\tBakery\tTurkish Restaurant\tCoffee Shop\n",
    "1\tLondon,SW1W\tHotel\tItalian Restaurant\tPub\tBakery\tCafé\tCoffee Shop\tRestaurant\tGastropub\tMediterranean Restaurant\tChinese Restaurant\n",
    "2\tPimlico,SW1V\tHotel\tPub\tItalian Restaurant\tCafé\tSandwich Place\tIndian Restaurant\tRestaurant\tPizza Place\tBakery\tTurkish Restaurant\n",
    "3\tVictoria,SW1V\tHotel\tItalian Restaurant\tPub\tCoffee Shop\tCafé\tSandwich Place\tRestaurant\tTurkish Restaurant\tIndian Restaurant\tTheater\n"
   ]
  },
  {
   "cell_type": "code",
   "execution_count": null,
   "metadata": {},
   "outputs": [],
   "source": []
  },
  {
   "cell_type": "code",
   "execution_count": null,
   "metadata": {},
   "outputs": [],
   "source": []
  },
  {
   "cell_type": "code",
   "execution_count": null,
   "metadata": {},
   "outputs": [],
   "source": []
  }
 ],
 "metadata": {
  "kernelspec": {
   "display_name": "Python 3",
   "language": "python",
   "name": "python3"
  },
  "language_info": {
   "codemirror_mode": {
    "name": "ipython",
    "version": 3
   },
   "file_extension": ".py",
   "mimetype": "text/x-python",
   "name": "python",
   "nbconvert_exporter": "python",
   "pygments_lexer": "ipython3",
   "version": "3.7.3"
  }
 },
 "nbformat": 4,
 "nbformat_minor": 2
}
